{
 "cells": [
  {
   "cell_type": "code",
   "execution_count": 1,
   "metadata": {},
   "outputs": [],
   "source": [
    "import numpy as np \n",
    "from pysersic.priors import SourceProperties"
   ]
  },
  {
   "cell_type": "code",
   "execution_count": 2,
   "metadata": {},
   "outputs": [],
   "source": [
    "import numpy as np \n",
    "def load_data(n):\n",
    "    im = np.load(f'examp_gals/gal{n}_im.npy')\n",
    "    mask = np.load(f'examp_gals/gal{n}_mask.npy')\n",
    "    sig = np.load(f'examp_gals/gal{n}_sig.npy')\n",
    "    psf = np.load(f'examp_gals/gal{n}_psf.npy')\n",
    "    return im,mask,sig,psf \n",
    "\n",
    "im,mask,sig,psf = load_data(2)"
   ]
  },
  {
   "cell_type": "code",
   "execution_count": 5,
   "metadata": {},
   "outputs": [],
   "source": [
    "props = SourceProperties(im,mask)\n",
    "\n",
    "prior = props.generate_prior('sersic',sky_type='tilted-plane')"
   ]
  },
  {
   "cell_type": "code",
   "execution_count": 6,
   "metadata": {},
   "outputs": [
    {
     "data": {
      "text/plain": [
       "Prior for a sersic source:\n",
       "--------------------------\n",
       "flux ---  Normal w/ mu = 3689.19, sigma = 121.48\n",
       "r_eff ---  Truncated Normal w/ mu = 1.40, sigma = 1.18, between: 0.50 -> inf\n",
       "ellip ---  Uniform between: 0.00 -> 0.90\n",
       "theta ---  Custom prior of type: <class 'numpyro.distributions.directional.VonMises'>\n",
       "n ---  Uniform between: 0.50 -> 8.00\n",
       "xc ---  Normal w/ mu = 60.39, sigma = 1.00\n",
       "yc ---  Normal w/ mu = 59.29, sigma = 1.00\n",
       "sky mode: tilted-plane\n",
       "sky level: 0.02095169946551323\n",
       "sky rms: 0.48612746596336365"
      ]
     },
     "execution_count": 6,
     "metadata": {},
     "output_type": "execute_result"
    }
   ],
   "source": [
    "prior"
   ]
  },
  {
   "cell_type": "code",
   "execution_count": 6,
   "metadata": {},
   "outputs": [
    {
     "data": {
      "text/plain": [
       "0.48612747"
      ]
     },
     "execution_count": 6,
     "metadata": {},
     "output_type": "execute_result"
    }
   ],
   "source": []
  },
  {
   "cell_type": "code",
   "execution_count": null,
   "metadata": {},
   "outputs": [],
   "source": []
  }
 ],
 "metadata": {
  "kernelspec": {
   "display_name": "theia",
   "language": "python",
   "name": "python3"
  },
  "language_info": {
   "codemirror_mode": {
    "name": "ipython",
    "version": 3
   },
   "file_extension": ".py",
   "mimetype": "text/x-python",
   "name": "python",
   "nbconvert_exporter": "python",
   "pygments_lexer": "ipython3",
   "version": "3.10.9"
  },
  "orig_nbformat": 4,
  "vscode": {
   "interpreter": {
    "hash": "a2541231b5d29ba5d0f5fa4ae067ef2c0363ea20c82433c289707e16641c1459"
   }
  }
 },
 "nbformat": 4,
 "nbformat_minor": 2
}
